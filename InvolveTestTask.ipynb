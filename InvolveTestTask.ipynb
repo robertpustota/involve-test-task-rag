{
 "cells": [
  {
   "cell_type": "code",
   "execution_count": null,
   "id": "6304c879-7f7b-4ab4-831e-4ce4a1cfb8f6",
   "metadata": {},
   "outputs": [],
   "source": [
    "# install dependencies (only once)\n",
    "# %pip install -r requirements.txt"
   ]
  },
  {
   "cell_type": "code",
   "execution_count": null,
   "id": "41ebdeaa-2efe-48cd-bc79-873ed857cdb5",
   "metadata": {},
   "outputs": [],
   "source": [
    "# load .env and configure openai\n",
    "import os\n",
    "import openai\n",
    "from dotenv import load_dotenv\n",
    "\n",
    "load_dotenv()\n",
    "\n",
    "os.environ[\"LITELLM_LOGGING\"] = \"false\"\n",
    "\n",
    "api_key = os.getenv(\"OPENAI_API_KEY\")\n",
    "qdrant_url = os.getenv(\"QDRANT_URL\")\n",
    "\n",
    "assert api_key, \"OPENAI_API_KEY is missing in .env\"\n",
    "assert qdrant_url, \"QDRANT_URL is missing in .env\"\n",
    "\n",
    "openai.api_key = api_key"
   ]
  },
  {
   "cell_type": "markdown",
   "id": "7de56f05-cfa0-4598-82da-635849888338",
   "metadata": {},
   "source": [
    "---"
   ]
  },
  {
   "cell_type": "markdown",
   "id": "99edff66-02bb-4e6d-a0dd-216fb5bb41f1",
   "metadata": {},
   "source": [
    "## ✅ Task 1 – PDF Scraping (Cardiology Guidelines)\n",
    "\n",
    "**Goal:**  \n",
    "Download medical documents (PDF) from the Ministry of Health of Ukraine website, from the **Cardiology** section.\n",
    "\n",
    "**Task Context:**  \n",
    "The website uses **Cloudflare** protection, which blocks simple HTTP requests. Also, some documents are opened through JavaScript, not direct links.\n",
    "\n",
    "**Problems and Solutions:**\n",
    "- ❌ `requests` and similar libraries were blocked → ✅ Used **undetected_chromedriver** to simulate a real browser.\n",
    "- ❌ PDF downloads needed extra browser permissions → ✅ Used Chrome DevTools Protocol to allow direct downloads.\n",
    "- ✅ Found the correct section in the HTML using its ID, and used **BeautifulSoup** to get all the document links.\n",
    "\n",
    "**Result:**  \n",
    "> Downloaded all PDF documents from the cardiology section, with saved metadata: title, link, and local file path.\n"
   ]
  },
  {
   "cell_type": "code",
   "execution_count": null,
   "id": "70adc298-138c-4f7a-be11-b7edd59e214e",
   "metadata": {},
   "outputs": [],
   "source": [
    "import re\n",
    "import undetected_chromedriver as uc\n",
    "from bs4 import BeautifulSoup\n",
    "from tqdm import tqdm\n",
    "from selenium.webdriver.common.by import By\n",
    "from selenium.webdriver.support import expected_conditions as EC\n",
    "from selenium.webdriver.support.ui import WebDriverWait\n",
    "from selenium_stealth import stealth"
   ]
  },
  {
   "cell_type": "code",
   "execution_count": null,
   "id": "bb9c1d9a-3030-404d-9f35-0461de0d1278",
   "metadata": {},
   "outputs": [],
   "source": [
    "# create a folder for PDFs\n",
    "download_dir = os.path.abspath(\"downloads\")\n",
    "os.makedirs(download_dir, exist_ok=True)"
   ]
  },
  {
   "cell_type": "code",
   "execution_count": null,
   "id": "aac9cb5e-9d43-4f31-b5d9-fd680e1a2226",
   "metadata": {},
   "outputs": [],
   "source": [
    "# chrome options\n",
    "options = uc.ChromeOptions()\n",
    "options.add_argument(\"--no-sandbox\")\n",
    "options.add_argument(\"--disable-dev-shm-usage\")\n",
    "options.add_argument(\"--start-maximized\")\n",
    "options.add_argument(\"--disable-blink-features=AutomationControlled\")\n",
    "\n",
    "# chrome prefs\n",
    "prefs = {\n",
    "    \"download.default_directory\": download_dir,\n",
    "    \"download.prompt_for_download\": False,\n",
    "    \"plugins.always_open_pdf_externally\": True,\n",
    "    \"profile.default_content_settings.popups\": 0,\n",
    "}\n",
    "options.add_experimental_option(\"prefs\", prefs)\n",
    "\n",
    "driver = uc.Chrome(options=options, headless=False)\n",
    "\n",
    "stealth(driver,\n",
    "    languages=[\"en-US\", \"en\"],\n",
    "    vendor=\"Google Inc.\",\n",
    "    platform=\"MacIntel\",\n",
    "    webgl_vendor=\"Intel Inc.\",\n",
    "    renderer=\"Intel Iris OpenGL Engine\",\n",
    "    fix_hairline=True,\n",
    ")\n",
    "\n",
    "# set automatical files download using DevTools Protocol\n",
    "driver.execute_cdp_cmd(\"Page.setDownloadBehavior\", {\n",
    "    \"behavior\": \"allow\",\n",
    "    \"downloadPath\": download_dir\n",
    "})"
   ]
  },
  {
   "cell_type": "code",
   "execution_count": null,
   "id": "5c87c12f-cd75-4d0b-be37-e4b1024099e8",
   "metadata": {},
   "outputs": [],
   "source": [
    "url = \"https://guidelines.moz.gov.ua/documents\"\n",
    "driver.get(url)\n",
    "# wait for the page to load completely\n",
    "try:\n",
    "    WebDriverWait(driver, 30).until(\n",
    "            EC.presence_of_element_located((By.ID, \"accordion\"))\n",
    "    )\n",
    "except:\n",
    "    print(\"Pass cloudfare and start this block again\")\n",
    "# get html to parse it with bs4\n",
    "html = driver.page_source"
   ]
  },
  {
   "cell_type": "code",
   "execution_count": null,
   "id": "23b1d160-63fe-4603-b070-be79de97ff05",
   "metadata": {},
   "outputs": [],
   "source": [
    "# get the page source and parse it\n",
    "soup = BeautifulSoup(html, 'html.parser')\n",
    "\n",
    "# find the cardiology section by its ID\n",
    "cardiology_section = soup.find('div', id='collapse11')\n",
    "\n",
    "documents = cardiology_section.find_all('a', href=True)\n",
    "\n",
    "# download All PDFs\n",
    "for link in tqdm(documents):\n",
    "    # visit each document's URL to trigger the download\n",
    "    driver.get(f\"https://guidelines.moz.gov.ua{link['href']}\")\n",
    "    # wait for the page to load (important for triggering the PDF download)\n",
    "    WebDriverWait(driver, 10).until(\n",
    "            EC.presence_of_element_located((By.TAG_NAME, \"body\"))\n",
    "        )\n",
    "driver.close()"
   ]
  },
  {
   "cell_type": "markdown",
   "id": "1ba1efca-96cb-4c88-95d2-cc781c66f6fe",
   "metadata": {},
   "source": [
    "After all files are loaded we can start to prepare our pdfs to loading to the knowleadge base"
   ]
  },
  {
   "cell_type": "code",
   "execution_count": null,
   "id": "95cff53a-baeb-4c07-a71b-747f05ef70a9",
   "metadata": {},
   "outputs": [],
   "source": [
    "# get all PDFs from the folder and create list with paths and urls\n",
    "pdf_files = [f for f in os.listdir(download_dir) if f.endswith('.pdf')]\n",
    "\n",
    "pdf_list = []\n",
    "for pdf in pdf_files:\n",
    "    # skip duplicates\n",
    "    if re.search(r'\\(\\d+\\)\\.pdf$', pdf):\n",
    "        continue\n",
    "    document_name = pdf.replace('.pdf', '')\n",
    "    pdf_path = os.path.join(download_dir, pdf)\n",
    "    url = f\"https://guidelines.moz.gov.ua/documents/{document_name}\"\n",
    "    pdf_list.append({\"pdf_path\": pdf_path, \"url\": url})\n"
   ]
  },
  {
   "cell_type": "code",
   "execution_count": null,
   "id": "7863e508-0581-4a19-a00c-615b27b30771",
   "metadata": {},
   "outputs": [],
   "source": [
    "pdf_list[:3]"
   ]
  },
  {
   "cell_type": "markdown",
   "id": "87789eb7-20c2-426b-b600-fa79564f21e0",
   "metadata": {},
   "source": [
    "---"
   ]
  },
  {
   "cell_type": "markdown",
   "id": "01966062-46ef-49a7-a2f4-d86b8b1a402d",
   "metadata": {},
   "source": [
    "## ✅ Task 2 – Vector Indexing (Medical Guidelines)\n",
    "\n",
    "**Goal:**  \n",
    "Build a vector index that helps find relevant parts of medical documents for user questions.\n",
    "\n",
    "**Task Context:**  \n",
    "After downloading the PDFs, the next step was to turn them into small parts (\"chunks\"), create embeddings, and store them in **Qdrant** for fast search.\n",
    "\n",
    "**Problems and Solutions:**\n",
    "- ❌ Tried chunking by table of contents and plain text → ❌ Results were not relevant  \n",
    "  → ✅ **Page-based chunking** worked best and gave better answers.\n",
    "- ❌ Embedding generation was slow → ✅ Used **batch requests** to OpenAI API.\n",
    "- ✅ Each chunk includes metadata (title, page, URL), which helps in source linking later.\n",
    "\n",
    "**Result:**  \n",
    "> A fast and accurate vector index with good page-level context and source info.\n"
   ]
  },
  {
   "cell_type": "code",
   "execution_count": null,
   "id": "b0f6d862-e7d2-451c-8bde-e2957b69a62a",
   "metadata": {},
   "outputs": [],
   "source": [
    "import re\n",
    "import fitz\n",
    "import hashlib\n",
    "from tqdm import tqdm\n",
    "from pathlib import Path\n",
    "from qdrant_client import QdrantClient\n",
    "from qdrant_retriever import QdrantRetriever\n",
    "from qdrant_client.http.models import PointStruct, VectorParams, Distance"
   ]
  },
  {
   "cell_type": "code",
   "execution_count": null,
   "id": "dcf48452-1426-410d-af74-d8b963e9d01e",
   "metadata": {},
   "outputs": [],
   "source": [
    "# function for batching requests for embedding\n",
    "def get_openai_embeddings_batch(chunks: list[str], model: str = \"text-embedding-3-small\") -> list[list[float]]:\n",
    "    if not chunks:\n",
    "        return []\n",
    "    response = openai.embeddings.create(input=chunks, model=model)\n",
    "    sorted_data = sorted(response.data, key=lambda x: x.index)\n",
    "    return [d.embedding for d in sorted_data]"
   ]
  },
  {
   "cell_type": "code",
   "execution_count": null,
   "id": "2fed1be8-47eb-4103-b49e-b6e442ee06f7",
   "metadata": {},
   "outputs": [],
   "source": [
    "# function for chanking by page\n",
    "def chunk_text_by_pages_with_overlap(pages: list[str], window_size: int = 2, overlap: int = 1) -> list[tuple[str, str]]:\n",
    "    chunks = []\n",
    "    i = 0\n",
    "    while i < len(pages):\n",
    "        end = min(i + window_size, len(pages))\n",
    "        chunk_text = \"\\n\".join(pages[i:end])\n",
    "        chunk_name = f\"pages_{i+1}_{end}\"\n",
    "        chunks.append((chunk_name, chunk_text))\n",
    "        if end == len(pages):\n",
    "            break\n",
    "        i += window_size - overlap\n",
    "    return chunks"
   ]
  },
  {
   "cell_type": "code",
   "execution_count": null,
   "id": "7439546e-2323-4329-b8fb-1832c3a52491",
   "metadata": {},
   "outputs": [],
   "source": [
    "# recreate collection\n",
    "collection_name = \"medical_guidelines_openai\"\n",
    "\n",
    "client = QdrantClient(host=\"localhost\", port=6333)\n",
    "if client.collection_exists(collection_name):\n",
    "    client.delete_collection(collection_name)\n",
    "    \n",
    "if collection_name not in [c.name for c in client.get_collections().collections]:\n",
    "    client.create_collection(\n",
    "        collection_name=collection_name,\n",
    "        vectors_config=VectorParams(size=1536, distance=Distance.COSINE)\n",
    "    )"
   ]
  },
  {
   "cell_type": "code",
   "execution_count": null,
   "id": "06209739-7568-45ff-8e8c-6c2534680d5f",
   "metadata": {},
   "outputs": [],
   "source": [
    "# loop for processing PDF files\n",
    "for pdf in tqdm(pdf_list, desc=\"Chanking by page\", unit=\"chunk\"):\n",
    "    pdf_path = pdf[\"pdf_path\"]\n",
    "    path_obj = Path(pdf_path)\n",
    "\n",
    "    # reading PDF\n",
    "    with fitz.open(pdf_path) as pdf_obj:\n",
    "        pages = [page.get_text() for page in pdf_obj]\n",
    "\n",
    "    # extracting metadata\n",
    "    text = \"\\n\".join(pages)\n",
    "    title_match = re.search(r\"Настанова\\s+\\d+\\.*.*\", text)\n",
    "    title = title_match.group(0).strip() if title_match else metadata.get(\"title\", \"Unnamed\")\n",
    "    doc_id_match = re.search(r\"ebm\\d{5}\", text)\n",
    "    doc_id = doc_id_match.group(0) if doc_id_match else \"unknown\"\n",
    "    doc_url = pdf[\"url\"]\n",
    "\n",
    "    # chunking by pages with overlap\n",
    "    page_chunks = chunk_text_by_pages_with_overlap(pages, window_size=2, overlap=1)\n",
    "\n",
    "    # creating chunk metadata\n",
    "    chunk_data = []\n",
    "    for i, (chunk_name, chunk_text) in enumerate(page_chunks):\n",
    "        uid = int(hashlib.md5((doc_id + chunk_name).encode()).hexdigest(), 16) % (10 ** 12)\n",
    "        chunk_data.append({\n",
    "            \"uid\": uid,\n",
    "            \"chunk\": chunk_text,\n",
    "            \"section\": chunk_name,\n",
    "            \"index\": i\n",
    "        })\n",
    "\n",
    "    # getting embeddings in batch\n",
    "    chunks = [item[\"chunk\"] for item in chunk_data]\n",
    "    vectors = get_openai_embeddings_batch(chunks)\n",
    "\n",
    "    # creating PointStruct\n",
    "    points = []\n",
    "    for data, vector in zip(chunk_data, vectors):\n",
    "        points.append(PointStruct(\n",
    "            id=data[\"uid\"],\n",
    "            vector=vector,\n",
    "            payload={\n",
    "                \"text\": data[\"chunk\"],\n",
    "                \"section\": data[\"section\"],\n",
    "                \"title\": title,\n",
    "                \"doc_id\": doc_id,\n",
    "                \"doc_url\": doc_url,\n",
    "                \"source_file\": path_obj.name,\n",
    "                \"chunk_index\": data[\"index\"],\n",
    "            }\n",
    "        ))\n",
    "\n",
    "    # uploading to qdrant\n",
    "    client.upsert(collection_name=collection_name, points=points)"
   ]
  },
  {
   "cell_type": "code",
   "execution_count": null,
   "id": "ac0fe80e-1b46-4d23-b659-daf3b7bcaeca",
   "metadata": {},
   "outputs": [],
   "source": [
    "# show results of vector search using qdrant\n",
    "query = \"Чим відрізняється нестабільна стенокардія від стабільної?\"\n",
    "\n",
    "query_vector = get_openai_embeddings_batch([query])[0]\n",
    "\n",
    "search_results = client.search(\n",
    "    collection_name=collection_name,\n",
    "    query_vector=query_vector,\n",
    "    limit=1\n",
    ")\n",
    "\n",
    "for i, result in enumerate(search_results, 1):\n",
    "    print(f\"\\n🔹 Результат #{i}\")\n",
    "    print(f\"📖 Документ: {result.payload.get('title')}\")\n",
    "    print(f\" URL: {result.payload.get('doc_url')}\")\n",
    "    print(f\"🔗 Файл: {result.payload.get('source_file')}\")\n",
    "    print(f\"\\n{result.payload['text'][:200]}...\")\n"
   ]
  },
  {
   "cell_type": "markdown",
   "id": "8483c97c-392e-434f-8536-b4b4fc9d84a6",
   "metadata": {},
   "source": [
    "---"
   ]
  },
  {
   "cell_type": "markdown",
   "id": "74c94955-36a4-41a7-8ba0-18e7d54b9b6d",
   "metadata": {},
   "source": [
    "## ✅ Task 3 – RAG Agent (with DSPy)\n",
    "\n",
    "**🎯 Goal:**  \n",
    "Create an agent that can answer questions using the most relevant parts of medical documents.\n",
    "\n",
    "**📚 Task Context:**  \n",
    "The agent is built using **DSPy** and uses the vector index created in **Task 2**.  \n",
    "The answer should be based on facts and must include the **original document source** and, if possible, the **page number**.\n",
    "\n",
    "> 🧠 The agent logic is implemented in the [`cardiology_agent.py`](./cardiology_agent.py) file.  \n",
    "> This notebook block demonstrates **how the agent is used** in practice within the full RAG pipeline.\n",
    "\n",
    "> 🧲 To support context retrieval, I implemented a custom retriever in [`qdrant_retriever.py`](./qdrant_retriever.py).  \n",
    "> It performs vector similarity search in **Qdrant** and returns the most relevant document chunks with metadata for citation.\n",
    "\n",
    "**🛠️ Problems & Solutions:**\n",
    "- ❌ At first, the agent did **not include the source** → ✅ Solved by changing the **prompt** to ask the model to always mention the document.\n",
    "- ❌ The answer **did not include page numbers** → ✅ Updated the code to **add page numbers to metadata**, so the agent can mention them when available.\n",
    "- ✅ Added links to the document so users can check the source.\n",
    "- ✅ Implemented a dedicated retriever class to interface with Qdrant and ensure accurate context retrieval.\n",
    "\n",
    "**📈 Result:**  \n",
    "> A working RAG agent that gives clear, source-grounded answers and shows the document (and often the page) where the information was found.\n"
   ]
  },
  {
   "cell_type": "code",
   "execution_count": null,
   "id": "216310a7-e975-435d-bed3-765140a538dc",
   "metadata": {},
   "outputs": [],
   "source": [
    "from qdrant_retriever import QdrantRetriever\n",
    "from cardiology_agent import CardiologyRAGAgent\n",
    "from IPython.display import Markdown, display"
   ]
  },
  {
   "cell_type": "code",
   "execution_count": null,
   "id": "4f6ba53b-2f4c-425d-874d-2f6a7a11ad7a",
   "metadata": {},
   "outputs": [],
   "source": [
    "# preparing queries\n",
    "relevant_queries = [\n",
    "    \"Які є класи антигіпертензивних препаратів та в чому різниця?\",\n",
    "    \"Як діагностується тахікардія у дорослих?\",\n",
    "    \"Які є клінічні ознаки гострої серцевої недостатності?\",\n",
    "    \"Чи дозволена фізична активність пацієнтам із хронічною ІХС?\",\n",
    "    \"Як проводиться добове моніторування артеріального тиску?\",\n",
    "    \"Які цільові значення артеріального тиску для літніх пацієнтів?\",\n",
    "    \"Що таке вторинна профілактика серцево-судинних захворювань?\",\n",
    "]\n",
    "\n",
    "irrelevant_queries = [\n",
    "    \"Які вітаміни краще приймати восени для імунітету?\",\n",
    "    \"Як лікувати псоріаз у дітей?\",\n",
    "    \"Чи корисне вживання зеленого чаю для печінки?\",\n",
    "    \"Що рекомендує МОЗ щодо вакцинації від COVID-19 у 2025 році?\",\n",
    "    \"Які є вправи для покращення постави у школярів?\",\n",
    "    \"Чи дозволена сауна під час вагітності?\",\n",
    "]"
   ]
  },
  {
   "cell_type": "code",
   "execution_count": null,
   "id": "af140f8f-d989-4c72-b415-5883bdfef596",
   "metadata": {},
   "outputs": [],
   "source": [
    "# init retriever\n",
    "retriever = QdrantRetriever(\n",
    "    collection_name=\"medical_guidelines_openai\", \n",
    "    qdrant_url=qdrant_url\n",
    ")\n",
    "\n",
    "# init agent\n",
    "agent = CardiologyRAGAgent(\n",
    "    llm_model='openai/gpt-4o-mini', \n",
    "    llm_model_kwargs={\"api_key\": api_key}, \n",
    "    retriever=retriever)"
   ]
  },
  {
   "cell_type": "code",
   "execution_count": null,
   "id": "c1003e3e-8513-4e64-9b72-4bc7077fdbc8",
   "metadata": {},
   "outputs": [],
   "source": [
    "# function for beautiful output\n",
    "def show_query_output(query, output):\n",
    "    display(Markdown(f\"\"\"\n",
    "### 🔹 **Input**\n",
    "{query}\n",
    "\n",
    "### 🔸 **Output**\n",
    "{output}\n",
    "---\n",
    "\"\"\"))"
   ]
  },
  {
   "cell_type": "code",
   "execution_count": null,
   "id": "21e4c9b3-d919-4af5-9abc-57bd0b1067da",
   "metadata": {},
   "outputs": [],
   "source": [
    "# results with relevant queries\n",
    "for query in relevant_queries:\n",
    "    result = agent.invoke(query)\n",
    "    show_query_output(query, result.output)"
   ]
  },
  {
   "cell_type": "code",
   "execution_count": null,
   "id": "3b7e9ead-2cb6-4c4c-a7b4-a687912ecc55",
   "metadata": {},
   "outputs": [],
   "source": [
    "# results with irrelevant queries\n",
    "for query in irrelevant_queries:\n",
    "    result = agent.invoke(query)\n",
    "    show_query_output(query, result.output)"
   ]
  },
  {
   "cell_type": "markdown",
   "id": "eaa58a27-a587-4490-84f5-a80bc6ef568b",
   "metadata": {},
   "source": [
    "---"
   ]
  },
  {
   "cell_type": "markdown",
   "id": "a84a203e-23c2-41f1-817d-cce34d24cfea",
   "metadata": {},
   "source": [
    "## ✅ Task 4: Answer Evaluation (DeepEval)\n",
    "\n",
    "**🎯 Goal:**  \n",
    "Automatically check the quality of the agent’s answers using advanced evaluation metrics.\n",
    "\n",
    "**📚 Task Context:**  \n",
    "Manual checking takes too much time. To solve this, I used **DeepEval** to run tests on a list of medical questions with correct answers based on official cardiology guidelines from the Ministry of Health of Ukraine.\n",
    "\n",
    "> 🧪 To simplify running and managing evaluation, I created a dedicated utility class in [`metric_collector.py`](./metric_collector.py).  \n",
    "> It provides a convenient interface for loading test cases, executing metrics, and visualizing results.\n",
    "\n",
    "**🛠️ Problems & Solutions:**\n",
    "- ❌ At first, it was hard to create the \"correct\" answers → ✅ I used real text from the documents as the expected answer.\n",
    "- ✅ To better understand the results, I visualized all metrics using `VisualMetricCollector`.\n",
    "\n",
    "**📊 Metrics Used:**\n",
    "- `ContextualPrecisionMetric` – Checks how much of the retrieved info was used correctly.\n",
    "- `ContextualRecallMetric` – Checks how much of the correct info was retrieved.\n",
    "- `ContextualRelevancyMetric` – Checks if the retrieved info is related to the question.\n",
    "- `AnswerRelevancyMetric` – Evaluates if the answer is relevant and explains the reason.\n",
    "- `FaithfulnessMetric` – Measures how true and correct the answer is, with explanation.\n",
    "- `GEval` for **Source Attachment** – A custom evaluation to check:\n",
    "  - if the source is correct, specific (e.g., includes section or page),\n",
    "  - if the link contradicts or misses the claim → strong penalty.\n",
    "\n",
    "**📈 Result:**  \n",
    "> A complete automated system that tests answer quality with multiple detailed metrics and gives visual feedback for improvement.\n"
   ]
  },
  {
   "cell_type": "code",
   "execution_count": null,
   "id": "b0360401-2bfd-43b0-b22d-0da733e707b0",
   "metadata": {},
   "outputs": [],
   "source": [
    "from deepeval.metrics import GEval\n",
    "from deepeval.test_case import LLMTestCaseParams\n",
    "from metric_collector import VisualMetricCollector\n",
    "\n",
    "from deepeval.metrics import (\n",
    "    ContextualPrecisionMetric,\n",
    "    ContextualRecallMetric,\n",
    "    ContextualRelevancyMetric,\n",
    "    AnswerRelevancyMetric,\n",
    "    FaithfulnessMetric\n",
    ")\n",
    "\n",
    "from qdrant_retriever import QdrantRetriever\n",
    "from cardiology_agent import CardiologyRAGAgent"
   ]
  },
  {
   "cell_type": "code",
   "execution_count": null,
   "id": "bd3f091e-0b45-4dec-b82e-4612734efa4f",
   "metadata": {},
   "outputs": [],
   "source": [
    "# preparing queries and expected answers\n",
    "relevant_queries = [\n",
    "    \"Які є класи антигіпертензивних препаратів та в чому різниця?\",\n",
    "    \"Як діагностується тахікардія у дорослих?\",\n",
    "    \"Які є клінічні ознаки гострої серцевої недостатності?\",\n",
    "    \"Чи дозволена фізична активність пацієнтам із хронічною ІХС?\",\n",
    "    \"Як проводиться добове моніторування артеріального тиску?\",\n",
    "    \"Які цільові значення артеріального тиску для літніх пацієнтів?\",\n",
    "    \"Що таке вторинна профілактика серцево-судинних захворювань?\",\n",
    "]\n",
    "\n",
    "irrelevant_queries = [\n",
    "    \"Які вітаміни краще приймати восени для імунітету?\",\n",
    "    \"Як лікувати псоріаз у дітей?\",\n",
    "    \"Чи корисне вживання зеленого чаю для печінки?\",\n",
    "    \"Які є вправи для покращення постави у школярів?\",\n",
    "    \"Чи дозволена сауна під час вагітності?\"\n",
    "]\n",
    "\n",
    "expected_answers = [\n",
    "    \"Основні класи антигіпертензивних препаратів включають: інгібітори АПФ, блокатори рецепторів ангіотензину, бета-блокатори, блокатори кальцієвих каналів та діуретики. Вони відрізняються механізмами дії та показаннями до застосування, що впливає на вибір лікування.\\n\\nДжерела:\\n1. Настанова 00072. Медикаментозне лікування артеріальної гіпертензії, сторінки 2–3. [Link](https://guidelines.moz.gov.ua/documents/2989)\\n2. Настанова 00072. Медикаментозне лікування артеріальної гіпертензії, сторінки 14–15. [Link](https://guidelines.moz.gov.ua/documents/2989)\",\n",
    "    \"Тахікардія у дорослих діагностується на основі анамнезу, клінічного обстеження та ЕКГ, знятої під час нападу. Важливо правильно диференціювати шлуночкову тахікардію від надшлуночкової, що може бути небезпечним.\\n\\nДжерела:\\n1. Настанова 00065. Шлуночкова тахікардія, сторінки 2–6. [Link](https://guidelines.moz.gov.ua/documents/2986)\",\n",
    "    \"Клінічні ознаки гострої серцевої недостатності включають: сухі та вологі хрипи, підвищений тиск у яремних венах, набряки, порушення свідомості, холодні кінцівки, ціаноз. Ці симптоми потребують термінового лікування.\\n\\nДжерела:\\n1. Настанова 00089. Гостра серцева недостатність і набряк легень, сторінки 3–4. [Link](https://guidelines.moz.gov.ua/documents/2997)\",\n",
    "    \"Фізична активність пацієнтам із хронічною ІХС дозволена за умови стабільного стану та відсутності нападів болю в грудях. Лікар має оцінити ймовірність розвитку ІХС перед призначенням фізичного навантаження.\\n\\nДжерела:\\n1. Настанова 00985. Проби з дозованим фізичним навантаженням, сторінки 2–3. [Link](https://guidelines.moz.gov.ua/documents/3713)\\n2. Настанова 00080. Ішемічна хвороба серця, сторінки 9–10. [Link](https://guidelines.moz.gov.ua/documents/2992)\",\n",
    "    \"Добове моніторування артеріального тиску проводиться для виявлення резистентності до лікування, епізодів гіпотензії, нічного підвищення тиску або значної невідповідності між домашніми та лікарняними вимірюваннями.\\n\\nДжерела:\\n1. Настанова 00069. Гіпертензія: обстеження та стартове лікування, сторінки 2–3. [Link](https://guidelines.moz.gov.ua/documents/2988)\",\n",
    "    \"Цільові значення артеріального тиску для літніх пацієнтів становлять <150/90 мм рт. ст. (в лікарні) та <140/85 мм рт. ст. (вдома). Для пацієнтів з діабетом або хворобами нирок ці значення можуть бути нижчими.\\n\\nДжерела:\\n1. Настанова 00069. Гіпертензія: обстеження та стартове лікування, сторінки 2–3. [Link](https://guidelines.moz.gov.ua/documents/2988)\",\n",
    "    \"Вторинна профілактика серцево-судинних захворювань полягає в ефективному лікуванні дисліпідемії у пацієнтів з ішемічною хворобою серця та іншими атеросклеротичними захворюваннями. Вона також включає визначення та лікування пацієнтів із сімейною гіперхолестеринемією.\\n\\nДжерела:\\n1. Настанова 00523. Стратегії та пріоритети скринінгу на дисліпідемію, сторінка 1. [Link](https://guidelines.moz.gov.ua/documents/3358)\"\n",
    "]\n"
   ]
  },
  {
   "cell_type": "code",
   "execution_count": null,
   "id": "d51dd851-c36b-4896-a9bd-25d85783c665",
   "metadata": {},
   "outputs": [],
   "source": [
    "# init retriever\n",
    "retriever = QdrantRetriever(\n",
    "    collection_name=\"medical_guidelines_openai\", \n",
    "    qdrant_url=qdrant_url\n",
    ")\n",
    "\n",
    "# init agent\n",
    "agent = CardiologyRAGAgent(\n",
    "    llm_model='openai/gpt-4o-mini', \n",
    "    llm_model_kwargs={\"api_key\": api_key}, \n",
    "    retriever=retriever)"
   ]
  },
  {
   "cell_type": "code",
   "execution_count": null,
   "id": "dd9dbdb0-a785-4c53-a350-2ce5d3a1cb61",
   "metadata": {},
   "outputs": [],
   "source": [
    "# init metrics\n",
    "contextual_precision = ContextualPrecisionMetric(model=\"gpt-4o-mini\")\n",
    "contextual_recall = ContextualRecallMetric(model=\"gpt-4o-mini\")\n",
    "contextual_relevancy = ContextualRelevancyMetric(model=\"gpt-4o-mini\")\n",
    "answer_relevancy = AnswerRelevancyMetric(model=\"gpt-4o-mini\", include_reason=True)\n",
    "faithfulness_metric = FaithfulnessMetric(model=\"gpt-4o-mini\", include_reason=True)\n",
    "source_attachment_metric = GEval(\n",
    "    name=\"Source Attachment\",\n",
    "    criteria=\"Evaluate whether the sources attached by the agent are correct, specific, and relevant to the provided answer.\",\n",
    "    evaluation_steps=[\n",
    "        \"Check whether the linked source matches the content used in the answer.\",\n",
    "        \"Heavily penalize if the source contradicts or does not contain the stated information.\",\n",
    "        \"Reward if the source is specific (e.g., includes section or page number) and directly supports the claims.\",\n",
    "        \"Neutral or minor penalty for formatting issues unless they affect usability of the link.\"\n",
    "    ],\n",
    "    model=\"gpt-4o-mini\",\n",
    "    evaluation_params=[LLMTestCaseParams.INPUT, LLMTestCaseParams.ACTUAL_OUTPUT, LLMTestCaseParams.RETRIEVAL_CONTEXT]\n",
    ")"
   ]
  },
  {
   "cell_type": "code",
   "execution_count": null,
   "id": "4fba2791-bcc3-4aaf-ac84-a0f09be34341",
   "metadata": {},
   "outputs": [],
   "source": [
    "# init collector for evaluating with metrics\n",
    "collector = VisualMetricCollector(\n",
    "    metrics=[\n",
    "        source_attachment_metric, \n",
    "        faithfulness_metric, \n",
    "        answer_relevancy, \n",
    "        contextual_precision, \n",
    "        contextual_recall\n",
    "    ], \n",
    "    retriever=retriever, \n",
    "    agent=agent)"
   ]
  },
  {
   "cell_type": "code",
   "execution_count": null,
   "id": "83db8c71-da6f-439b-aae2-2fc45f5e8a70",
   "metadata": {},
   "outputs": [],
   "source": [
    "# creating test-cases using queries and expected answers\n",
    "test_cases = collector.collect_test_cases(relevant_queries, expected_answers)\n",
    "# evaluating\n",
    "scores = collector.collect_metric_results()\n",
    "# visualizing \n",
    "collector.visualize()"
   ]
  },
  {
   "cell_type": "code",
   "execution_count": null,
   "id": "b935f3c3-704a-448f-8253-c4a0cc4ef56d",
   "metadata": {},
   "outputs": [],
   "source": [
    "# change metrics for evaluating irrelevant queries\n",
    "collector.metrics = [\n",
    "    faithfulness_metric\n",
    "] "
   ]
  },
  {
   "cell_type": "code",
   "execution_count": null,
   "id": "0396e21e-4e46-458a-8fbd-98616ac34c73",
   "metadata": {},
   "outputs": [],
   "source": [
    "# creating test-cases using irrelevant queries\n",
    "test_cases = collector.collect_test_cases(irrelevant_queries)\n",
    "# evaluating\n",
    "scores = collector.collect_metric_results()\n",
    "# visualizing \n",
    "collector.visualize()"
   ]
  }
 ],
 "metadata": {
  "kernelspec": {
   "display_name": "Python 3 (ipykernel)",
   "language": "python",
   "name": "python3"
  },
  "language_info": {
   "codemirror_mode": {
    "name": "ipython",
    "version": 3
   },
   "file_extension": ".py",
   "mimetype": "text/x-python",
   "name": "python",
   "nbconvert_exporter": "python",
   "pygments_lexer": "ipython3",
   "version": "3.11.1"
  }
 },
 "nbformat": 4,
 "nbformat_minor": 5
}
